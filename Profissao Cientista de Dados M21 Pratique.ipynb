{
 "cells": [
  {
   "cell_type": "markdown",
   "metadata": {
    "id": "5mEckgFd-NN6"
   },
   "source": [
    "# **MÓDULO 21 - Projeto de Credit Score - Árvore de Decisão**\n"
   ]
  },
  {
   "cell_type": "markdown",
   "metadata": {
    "id": "0glG_vNy-UJb"
   },
   "source": [
    "No módulo 17, vocês realizaram a primeira etapa do projeto de crédito de vocês. Então fizeram o tratamendo dos dados, balancearam as classes, transformaram as variáveis categóricas e separam base de treino e teste. Já no módulo 14, aplicaram a base já tratada o algoritmo de Naive Bayes, onde avaliaram os resultados das previsões. Nesse módulo aplicaremos a nossa base o algoritmo da árvore de decisão."
   ]
  },
  {
   "cell_type": "code",
   "execution_count": 1,
   "metadata": {
    "id": "JJKbQFtKyfip"
   },
   "outputs": [],
   "source": [
    "import pandas as pd\n",
    "import numpy as np\n",
    "import seaborn as sns\n",
    "from sklearn.metrics import confusion_matrix\n",
    "import matplotlib.pyplot as plt\n",
    "from sklearn.tree import plot_tree\n",
    "import matplotlib.pyplot as plt\n",
    "from sklearn.tree import DecisionTreeClassifier\n",
    "from sklearn.metrics import accuracy_score, classification_report"
   ]
  },
  {
   "cell_type": "markdown",
   "metadata": {
    "id": "piJZ3_sx-uvS"
   },
   "source": [
    "# 1) Comece carregando as bases de treino (X e y) e teste (X e y).\n",
    "Verifique se o número de linhas condiz, se as variáveis estão corretas sendo apenas a de score para y e as demais nas bases de X e por último, se Y está balanceada no teste."
   ]
  },
  {
   "cell_type": "code",
   "execution_count": null,
   "metadata": {},
   "outputs": [
    {
     "data": {
      "text/html": [
       "<div>\n",
       "<style scoped>\n",
       "    .dataframe tbody tr th:only-of-type {\n",
       "        vertical-align: middle;\n",
       "    }\n",
       "\n",
       "    .dataframe tbody tr th {\n",
       "        vertical-align: top;\n",
       "    }\n",
       "\n",
       "    .dataframe thead th {\n",
       "        text-align: right;\n",
       "    }\n",
       "</style>\n",
       "<table border=\"1\" class=\"dataframe\">\n",
       "  <thead>\n",
       "    <tr style=\"text-align: right;\">\n",
       "      <th></th>\n",
       "      <th>Age</th>\n",
       "      <th>Income</th>\n",
       "      <th>Number of Children</th>\n",
       "      <th>Gender_encoded</th>\n",
       "      <th>ED__BACHELOR'S DEGREE</th>\n",
       "      <th>ED__DOCTORATE</th>\n",
       "      <th>ED__HIGH SCHOOL DIPLOMA</th>\n",
       "      <th>ED__MASTER'S DEGREE</th>\n",
       "      <th>Marital Status Code</th>\n",
       "      <th>Home Ownership Code</th>\n",
       "      <th>Credit Score Code</th>\n",
       "    </tr>\n",
       "  </thead>\n",
       "  <tbody>\n",
       "    <tr>\n",
       "      <th>0</th>\n",
       "      <td>25</td>\n",
       "      <td>50000.0</td>\n",
       "      <td>0</td>\n",
       "      <td>0</td>\n",
       "      <td>True</td>\n",
       "      <td>False</td>\n",
       "      <td>False</td>\n",
       "      <td>False</td>\n",
       "      <td>1</td>\n",
       "      <td>1</td>\n",
       "      <td>1</td>\n",
       "    </tr>\n",
       "    <tr>\n",
       "      <th>1</th>\n",
       "      <td>30</td>\n",
       "      <td>100000.0</td>\n",
       "      <td>2</td>\n",
       "      <td>1</td>\n",
       "      <td>False</td>\n",
       "      <td>False</td>\n",
       "      <td>False</td>\n",
       "      <td>True</td>\n",
       "      <td>0</td>\n",
       "      <td>0</td>\n",
       "      <td>1</td>\n",
       "    </tr>\n",
       "    <tr>\n",
       "      <th>2</th>\n",
       "      <td>35</td>\n",
       "      <td>75000.0</td>\n",
       "      <td>1</td>\n",
       "      <td>0</td>\n",
       "      <td>False</td>\n",
       "      <td>True</td>\n",
       "      <td>False</td>\n",
       "      <td>False</td>\n",
       "      <td>0</td>\n",
       "      <td>0</td>\n",
       "      <td>1</td>\n",
       "    </tr>\n",
       "    <tr>\n",
       "      <th>3</th>\n",
       "      <td>40</td>\n",
       "      <td>125000.0</td>\n",
       "      <td>0</td>\n",
       "      <td>1</td>\n",
       "      <td>False</td>\n",
       "      <td>False</td>\n",
       "      <td>True</td>\n",
       "      <td>False</td>\n",
       "      <td>1</td>\n",
       "      <td>0</td>\n",
       "      <td>1</td>\n",
       "    </tr>\n",
       "    <tr>\n",
       "      <th>4</th>\n",
       "      <td>45</td>\n",
       "      <td>100000.0</td>\n",
       "      <td>3</td>\n",
       "      <td>0</td>\n",
       "      <td>True</td>\n",
       "      <td>False</td>\n",
       "      <td>False</td>\n",
       "      <td>False</td>\n",
       "      <td>0</td>\n",
       "      <td>0</td>\n",
       "      <td>1</td>\n",
       "    </tr>\n",
       "  </tbody>\n",
       "</table>\n",
       "</div>"
      ],
      "text/plain": [
       "   Age    Income  Number of Children  Gender_encoded  ED__BACHELOR'S DEGREE  \\\n",
       "0   25   50000.0                   0               0                   True   \n",
       "1   30  100000.0                   2               1                  False   \n",
       "2   35   75000.0                   1               0                  False   \n",
       "3   40  125000.0                   0               1                  False   \n",
       "4   45  100000.0                   3               0                   True   \n",
       "\n",
       "   ED__DOCTORATE  ED__HIGH SCHOOL DIPLOMA  ED__MASTER'S DEGREE  \\\n",
       "0          False                    False                False   \n",
       "1          False                    False                 True   \n",
       "2           True                    False                False   \n",
       "3          False                     True                False   \n",
       "4          False                    False                False   \n",
       "\n",
       "   Marital Status Code  Home Ownership Code  Credit Score Code  \n",
       "0                    1                    1                  1  \n",
       "1                    0                    0                  1  \n",
       "2                    0                    0                  1  \n",
       "3                    1                    0                  1  \n",
       "4                    0                    0                  1  "
      ]
     },
     "execution_count": 41,
     "metadata": {},
     "output_type": "execute_result"
    }
   ],
   "source": [
    "# Leitura dos dados .csv\n",
    "credit_data = pd.read_csv('CREDIT_SCORE_M20.csv')\n",
    "\n",
    "# Apagando a coluna descenessária 'Unnamed: 0'\n",
    "credit_data = credit_data.drop('Unnamed: 0', axis=1)\n",
    "\n",
    "# Visualização dos resultados\n",
    "credit_data.head()"
   ]
  },
  {
   "cell_type": "markdown",
   "metadata": {},
   "source": [
    "Separando as bases do arquivo CSV"
   ]
  },
  {
   "cell_type": "code",
   "execution_count": 44,
   "metadata": {},
   "outputs": [],
   "source": [
    "from sklearn.model_selection import train_test_split\n",
    "\n",
    "X = credit_data.drop('Credit Score Code', axis=1)\n",
    "y = credit_data['Credit Score Code']"
   ]
  },
  {
   "cell_type": "markdown",
   "metadata": {},
   "source": [
    "Aplicando a separação das bases de treino e de teste"
   ]
  },
  {
   "cell_type": "code",
   "execution_count": 45,
   "metadata": {},
   "outputs": [],
   "source": [
    "X_train, X_test, y_train, y_test = train_test_split(\n",
    "    X, y, test_size=0.25, random_state=0\n",
    ")"
   ]
  },
  {
   "cell_type": "markdown",
   "metadata": {},
   "source": [
    "Verificando o tamanho das bases de dados"
   ]
  },
  {
   "cell_type": "code",
   "execution_count": 49,
   "metadata": {},
   "outputs": [
    {
     "name": "stdout",
     "output_type": "stream",
     "text": [
      "O tamanho de X_train é:  123\n",
      "O tamanho de X_test é:  41\n",
      "O tamanho de y_train é:  123\n",
      "O tamanho de y_test é:  41\n"
     ]
    }
   ],
   "source": [
    "print('O tamanho de X_train é: ', X_train.value_counts().sum())\n",
    "print('O tamanho de X_test é: ', X_test.value_counts().sum())\n",
    "print('O tamanho de y_train é: ', y_train.value_counts().sum())\n",
    "print('O tamanho de y_test é: ', y_test.value_counts().sum())"
   ]
  },
  {
   "cell_type": "markdown",
   "metadata": {},
   "source": [
    "Verificando o balanceamento da base de dados"
   ]
  },
  {
   "cell_type": "code",
   "execution_count": 57,
   "metadata": {},
   "outputs": [
    {
     "name": "stdout",
     "output_type": "stream",
     "text": [
      "Verificando o balanceamento de dados da base treino\n",
      "Credit Score Code\n",
      "1    66.666667\n",
      "0    22.764228\n",
      "2    10.569106\n",
      "Name: proportion, dtype: float64\n",
      "\n",
      "\n",
      "Verificando o balanceamento de dados da base teste\n",
      "Credit Score Code\n",
      "1    75.609756\n",
      "0    19.512195\n",
      "2     4.878049\n",
      "Name: proportion, dtype: float64\n"
     ]
    }
   ],
   "source": [
    "print('Verificando o balanceamento de dados da base treino')\n",
    "print(y_train.value_counts(normalize=True) * 100)\n",
    "\n",
    "print('\\n\\nVerificando o balanceamento de dados da base teste')\n",
    "print(y_test.value_counts(normalize=True) * 100)"
   ]
  },
  {
   "cell_type": "markdown",
   "metadata": {},
   "source": [
    "A base de dados está desbalanceada. No exercício anterior conforme trabalhado, temos que:  \n",
    "1: Alto  \n",
    "0: Médio  \n",
    "2: Baixo  \n",
    "\n",
    "Portanto, a maior parte dos nossos dados são de Credit Score Alto. Vamos balancear **apenas na base de treino** para não enviesar nosso modelo e aplicar o teste com os dados reais."
   ]
  },
  {
   "cell_type": "code",
   "execution_count": 62,
   "metadata": {},
   "outputs": [
    {
     "name": "stdout",
     "output_type": "stream",
     "text": [
      "Balanceamento em y_train: \n",
      "\n",
      "Credit Score Code\n",
      "1    0.333333\n",
      "0    0.333333\n",
      "2    0.333333\n",
      "Name: proportion, dtype: float64\n",
      "\n",
      "Tamanho de X_train:  246\n",
      "\n",
      "Tamanho de y_train:  246\n"
     ]
    }
   ],
   "source": [
    "from imblearn.over_sampling import SMOTE\n",
    "\n",
    "# Cria uma instância smote\n",
    "smote = SMOTE(random_state=1)\n",
    "\n",
    "# Aplicando apenas na base de TREINO\n",
    "X_train_balanced, y_train_balanced = smote.fit_resample(X_train, y_train)\n",
    "\n",
    "# Verificando os tamanhos da base\n",
    "print('Balanceamento em y_train: \\n')\n",
    "print(y_train_balanced.value_counts(normalize=True))\n",
    "\n",
    "print('\\nTamanho de X_train: ', X_train_balanced.value_counts().sum())\n",
    "print('\\nTamanho de y_train: ', y_train_balanced.value_counts().sum())"
   ]
  },
  {
   "cell_type": "markdown",
   "metadata": {
    "id": "yx1x-6-z-yGY"
   },
   "source": [
    "# 2) Explique com suas palavras, qual o passo a passo para a aplicação do algoritmo da árvore de decisão, não esqueça de citar a etapa de avaliação do modelo e também como podemos melhorar nosso modelo."
   ]
  },
  {
   "cell_type": "code",
   "execution_count": null,
   "metadata": {
    "id": "goU3eJz64vWl"
   },
   "outputs": [],
   "source": [
    "#Sua resposta aqui"
   ]
  },
  {
   "cell_type": "markdown",
   "metadata": {
    "id": "x-wtN8Y24dcg"
   },
   "source": [
    "# 3) Aplique o algortimo da árvore de decisão aos dados de treinamento, utilizando critério de Gini e random state = 0.\n",
    "Traga a acurácia para o modedlo com os dados de treino."
   ]
  },
  {
   "cell_type": "code",
   "execution_count": null,
   "metadata": {
    "id": "TTAOXnxS6p1C"
   },
   "outputs": [],
   "source": [
    "#seu código aqui"
   ]
  },
  {
   "cell_type": "markdown",
   "metadata": {
    "id": "ajytPG6G75jJ"
   },
   "source": [
    "# 4) Aplique o modelo aos dados de teste e realize a avaliação dos resultados. Não se esqueça de avaliar com as suas palavras e comparar o desempenho da base treino com a teste."
   ]
  },
  {
   "cell_type": "code",
   "execution_count": null,
   "metadata": {
    "id": "rDikimnX8EU2"
   },
   "outputs": [],
   "source": [
    "#seu código aqui"
   ]
  },
  {
   "cell_type": "markdown",
   "metadata": {
    "id": "GIAfA8zl8--k"
   },
   "source": [
    "# 5) Plote a árvore de decisão.\n",
    "É possível fazer uma avaliação visual? Qual a profundidade da árvore?"
   ]
  },
  {
   "cell_type": "code",
   "execution_count": null,
   "metadata": {
    "id": "-NFE88AV9EVT"
   },
   "outputs": [],
   "source": [
    "#seu código aqui"
   ]
  },
  {
   "cell_type": "markdown",
   "metadata": {
    "id": "YuaEvREG9bz9"
   },
   "source": [
    "# 6) Identifique as 2 principais features do modelo.\n"
   ]
  },
  {
   "cell_type": "code",
   "execution_count": null,
   "metadata": {
    "id": "9W6B2kmV9jYx"
   },
   "outputs": [],
   "source": [
    "#seu código aqui"
   ]
  },
  {
   "cell_type": "markdown",
   "metadata": {
    "id": "RM27EgfT9zfT"
   },
   "source": [
    "# 7) Rode um modelo de árvore de decisão apenas com as 2 principais features encontradas. E avalie os resultados. Para você o desempenho da árvore está melhor que o modelo anterior? Justifique."
   ]
  },
  {
   "cell_type": "code",
   "execution_count": null,
   "metadata": {
    "id": "A_1IN8UN9zCS"
   },
   "outputs": [],
   "source": [
    "#seu código aqui"
   ]
  },
  {
   "cell_type": "markdown",
   "metadata": {
    "id": "nnHjqAsr_MRe"
   },
   "source": [
    "# 8) Compare os resultados obtidos com a árvore de decisão com os resultados do Naive Bayes (Exercício módulo 20). Qual parece ter se adequado melhor aos dados e tem melhores resultados de avaliação? Justifique."
   ]
  },
  {
   "cell_type": "code",
   "execution_count": null,
   "metadata": {
    "id": "NTanFag4CCGb"
   },
   "outputs": [],
   "source": [
    "#Seu texto aqui"
   ]
  }
 ],
 "metadata": {
  "colab": {
   "provenance": []
  },
  "kernelspec": {
   "display_name": "base",
   "language": "python",
   "name": "python3"
  },
  "language_info": {
   "codemirror_mode": {
    "name": "ipython",
    "version": 3
   },
   "file_extension": ".py",
   "mimetype": "text/x-python",
   "name": "python",
   "nbconvert_exporter": "python",
   "pygments_lexer": "ipython3",
   "version": "3.12.7"
  }
 },
 "nbformat": 4,
 "nbformat_minor": 0
}
